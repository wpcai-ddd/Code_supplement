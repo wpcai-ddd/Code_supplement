{
 "cells": [
  {
   "cell_type": "code",
   "execution_count": 1,
   "metadata": {},
   "outputs": [],
   "source": [
    "from sklearn.ensemble import RandomForestRegressor\n",
    "from sklearn.ensemble import RandomForestClassifier\n",
    "from sklearn.tree import DecisionTreeRegressor\n",
    "from sklearn.ensemble import GradientBoostingRegressor\n",
    "from sklearn.model_selection import cross_val_score,cross_val_predict\n",
    "from sklearn.model_selection import train_test_split\n",
    "from sklearn.preprocessing import StandardScaler\n",
    "from sklearn.preprocessing import OneHotEncoder\n",
    "from sklearn.decomposition import PCA\n",
    "from sklearn.feature_selection import RFE\n",
    "from mpl_toolkits.mplot3d import Axes3D \n",
    "from sklearn.metrics import mean_squared_error\n",
    "from sklearn.metrics import r2_score\n",
    "from sklearn.metrics import mean_squared_error as MSE\n",
    "from sklearn.metrics import mean_absolute_error as MAE\n",
    "from sklearn.metrics import log_loss\n",
    "import matplotlib\n",
    "import matplotlib.pyplot as plt\n",
    "import matplotlib.cm as cm\n",
    "import numpy as np\n",
    "import pandas as pd\n",
    "import os\n",
    "from pandas import DataFrame as df\n",
    "from sklearn.preprocessing import LabelEncoder\n",
    "import re\n",
    "from sklearn.metrics import confusion_matrix\n",
    "from sklearn.metrics import accuracy_score\n",
    "import matplotlib.pyplot as plt\n",
    "import pandas as pd\n",
    "import numpy as np"
   ]
  },
  {
   "cell_type": "code",
   "execution_count": 4,
   "metadata": {},
   "outputs": [
    {
     "name": "stdout",
     "output_type": "stream",
     "text": [
      "5cv: 0.320332123909166 TEST: 0.712710395287464\n",
      "rmse_5CV 0.8056166502393408\n"
     ]
    },
    {
     "data": {
      "image/png": "[encoded data removed]",
      "text/plain": [
       "<Figure size 432x288 with 1 Axes>"
      ]
     },
     "metadata": {
      "needs_background": "light"
     },
     "output_type": "display_data"
    }
   ],
   "source": [
    "data = pd.read_csv(r'H:\\Ti_NPs_RF.csv',engine='python')\n",
    "df = pd.DataFrame(data)\n",
    "plt.figure(figsize=(6, 4))\n",
    "plt.boxplot(df['Ti_NPs'])\n",
    "plt.title('Boxplot of Ti_NPs')\n",
    "Q1 = df['Ti_NPs'].quantile(0.25)\n",
    "Q3 = df['Ti_NPs'].quantile(0.75)\n",
    "IQR = Q3 - Q1\n",
    "lower_bound = Q1 - 1.5 * IQR\n",
    "upper_bound = Q3 + 1.5 * IQR\n",
    "df = df[(df['Ti_NPs'] >= lower_bound) & (df['Ti_NPs'] <= upper_bound)]\n",
    "df = df[(df['Ti_NPs'] > 4.78)]\n",
    "df.iloc[:, :1] = df.iloc[:, :1].astype(str)\n",
    "df.fillna(df.mean())\n",
    "data2 = df.fillna(df.mean())\n",
    "y = data2['Ti_NPs']\n",
    "columns_to_drop = ['No.', 'Ag_NPs', 'Cr_NPs', 'Cu_NPs', 'Fe_NPs', 'Hg_NPs', 'Mn_NPs', 'Pb_NPs', 'Ti_NPs']\n",
    "x = data2.drop(columns=columns_to_drop, axis=1)\n",
    "Xtrain,Xtest,Ytrain,Ytest = train_test_split(x,y,test_size=0.2,random_state=130)\n",
    "rfc = RandomForestRegressor(random_state=60)\n",
    "CV_score = cross_val_score(rfc, Xtrain, Ytrain, cv=5).mean()\n",
    "regressor = rfc.fit(Xtrain, Ytrain)\n",
    "CV_predictions = cross_val_predict(rfc, Xtrain,Ytrain,cv=5)\n",
    "rmse = np.sqrt(mean_squared_error(Ytrain,CV_predictions))\n",
    "score_test = regressor.score(Xtest,Ytest)\n",
    "print(\"5cv:\",CV_score,\"TEST:\",score_test)\n",
    "print(\"rmse_5CV\",rmse)"
   ]
  },
  {
   "cell_type": "code",
   "execution_count": 5,
   "metadata": {},
   "outputs": [
    {
     "name": "stdout",
     "output_type": "stream",
     "text": [
      "Best_5cv score：0.3758532305727129 random_5cv:165\n",
      "Best_5cv score：0.4237098026874957 n_est_5cv:19\n",
      "Best_5cv score：0.4301485785607089 max_depth_5cv:8\n",
      "Best_5cv score：0.4301485785607089 max_features_5cv:4\n"
     ]
    }
   ],
   "source": [
    "score_5cv_all = []\n",
    "for i in range(0, 200, 1):\n",
    "    rfc =RandomForestRegressor(random_state=i)\n",
    "    score_5cv =cross_val_score(rfc, Xtrain, Ytrain, cv=5).mean()\n",
    "    score_5cv_all.append(score_5cv)\n",
    "    pass\n",
    "\n",
    "score_max_5cv = max(score_5cv_all)\n",
    "random_state_5cv = range(0, 200)[score_5cv_all.index(max(score_5cv_all))]\n",
    "\n",
    "print(\"Best_5cv score：{}\".format(score_max_5cv),\n",
    "      \"random_5cv:{}\".format(random_state_5cv))\n",
    "\n",
    "\n",
    "score_5cv_all = []\n",
    "for i in range(1, 400, 1):\n",
    "    rfc = RandomForestRegressor(n_estimators=i\n",
    "                                , random_state=random_state_5cv)\n",
    "    score_5cv = cross_val_score(rfc, Xtrain, Ytrain, cv=5).mean()\n",
    "    score_5cv_all.append(score_5cv)\n",
    "    pass\n",
    "\n",
    "score_max_5cv = max(score_5cv_all)\n",
    "n_est_5cv = range(1,400)[score_5cv_all.index(score_max_5cv)]\n",
    "\n",
    "print(\"Best_5cv score：{}\".format(score_max_5cv),\n",
    "      \"n_est_5cv:{}\".format(n_est_5cv)) \n",
    "\n",
    "\n",
    "score_5cv_all = []\n",
    "for i in range(1, 300, 1):\n",
    "    rfc = RandomForestRegressor(n_estimators=n_est_5cv\n",
    "                                ,random_state=random_state_5cv\n",
    "                                ,max_depth=i)\n",
    "    score_5cv = cross_val_score(rfc, Xtrain, Ytrain, cv=5).mean()\n",
    "    score_5cv_all.append(score_5cv)\n",
    "    pass\n",
    "\n",
    "score_max_5cv = max(score_5cv_all)\n",
    "max_depth_5cv = range(1,300)[score_5cv_all.index(score_max_5cv)]\n",
    "\n",
    "print(\"Best_5cv score：{}\".format(score_max_5cv),\n",
    "      \"max_depth_5cv:{}\".format(max_depth_5cv))\n",
    "\n",
    "\n",
    "score_5cv_all = []\n",
    "for i in range(1,x.shape[1]+1):\n",
    "    rfc = RandomForestRegressor(n_estimators=n_est_5cv\n",
    "                                ,random_state=random_state_5cv\n",
    "                                ,max_depth=max_depth_5cv\n",
    "                                ,max_features=i)\n",
    "    score_5cv = cross_val_score(rfc, Xtrain, Ytrain, cv=5).mean()\n",
    "    score_5cv_all.append(score_5cv)\n",
    "    pass\n",
    "\n",
    "score_max_5cv = max(score_5cv_all)\n",
    "max_features_5cv = range(1, x.shape[1]+1)[score_5cv_all.index(score_max_5cv)]\n",
    "\n",
    "print(\"Best_5cv score：{}\".format(score_max_5cv),\n",
    "      \"max_features_5cv:{}\".format(max_features_5cv))"
   ]
  },
  {
   "cell_type": "code",
   "execution_count": 6,
   "metadata": {},
   "outputs": [
    {
     "name": "stdout",
     "output_type": "stream",
     "text": [
      "train: 0.8872677844665857\n",
      "test: 0.697141789134271\n",
      "score_5cv 0.4301485785607089\n",
      "rmse_test 0.4827057483118145\n",
      "MAE 0.3989455304928982\n"
     ]
    },
    {
     "data": {
      "text/plain": [
       "0.697141789134271"
      ]
     },
     "execution_count": 6,
     "metadata": {},
     "output_type": "execute_result"
    }
   ],
   "source": [
    "rfc = RandomForestRegressor(random_state=random_state_5cv\n",
    "                            ,n_estimators=n_est_5cv\n",
    "                            ,max_depth=max_depth_5cv\n",
    "                            ,max_features=max_features_5cv)\n",
    "RandomForest = rfc.fit(Xtrain, Ytrain)\n",
    "test_predictions = RandomForest.predict(Xtest)\n",
    "score_test = RandomForest.score(Xtest,Ytest)\n",
    "score_train = RandomForest.score(Xtrain,Ytrain)\n",
    "CV_score = cross_val_score(rfc, Xtrain, Ytrain, cv=5).mean()\n",
    "rmse = np.sqrt(mean_squared_error(Ytest,test_predictions))\n",
    "mae = MAE(Ytest, test_predictions)\n",
    "print(\"train:\",score_train)\n",
    "print(\"test:\",score_test)\n",
    "print(\"score_5cv\",CV_score)\n",
    "print(\"rmse_test\",rmse)\n",
    "print(\"MAE\",mae)\n",
    "expvspred_test = {'Exp':Ytest,'Pred':test_predictions}\n",
    "predictions = RandomForest.predict(x)\n",
    "pre_Ti = {'Exp':y,'Pred':predictions}\n",
    "pd.DataFrame(pre_Ti).to_excel(r'H:\\Ti_NPs_RF_regression.xlsx')\n",
    "rfc.score(Xtest,Ytest)"
   ]
  },
  {
   "cell_type": "code",
   "execution_count": 7,
   "metadata": {},
   "outputs": [
    {
     "data": {
      "text/html": [
       "<div>\n",
       "<style scoped>\n",
       "    .dataframe tbody tr th:only-of-type {\n",
       "        vertical-align: middle;\n",
       "    }\n",
       "\n",
       "    .dataframe tbody tr th {\n",
       "        vertical-align: top;\n",
       "    }\n",
       "\n",
       "    .dataframe thead th {\n",
       "        text-align: right;\n",
       "    }\n",
       "</style>\n",
       "<table border=\"1\" class=\"dataframe\">\n",
       "  <thead>\n",
       "    <tr style=\"text-align: right;\">\n",
       "      <th></th>\n",
       "      <th>feature</th>\n",
       "      <th>importance</th>\n",
       "    </tr>\n",
       "  </thead>\n",
       "  <tbody>\n",
       "    <tr>\n",
       "      <th>0</th>\n",
       "      <td>TOC</td>\n",
       "      <td>0.430224</td>\n",
       "    </tr>\n",
       "    <tr>\n",
       "      <th>1</th>\n",
       "      <td>leachate_Cu</td>\n",
       "      <td>0.138639</td>\n",
       "    </tr>\n",
       "    <tr>\n",
       "      <th>2</th>\n",
       "      <td>leachate_Cr</td>\n",
       "      <td>0.104811</td>\n",
       "    </tr>\n",
       "    <tr>\n",
       "      <th>3</th>\n",
       "      <td>leachate_Fe</td>\n",
       "      <td>0.326326</td>\n",
       "    </tr>\n",
       "  </tbody>\n",
       "</table>\n",
       "</div>"
      ],
      "text/plain": [
       "       feature  importance\n",
       "0          TOC    0.430224\n",
       "1  leachate_Cu    0.138639\n",
       "2  leachate_Cr    0.104811\n",
       "3  leachate_Fe    0.326326"
      ]
     },
     "execution_count": 7,
     "metadata": {},
     "output_type": "execute_result"
    }
   ],
   "source": [
    "features_import = pd.DataFrame(Xtrain.columns, columns=['feature'])\n",
    "features_import['importance'] = rfc.feature_importances_  \n",
    "features_import.to_excel(r'H:\\Ti_NPs_RF_imp.xlsx', index=False)\n",
    "features_import"
   ]
  },
  {
   "cell_type": "code",
   "execution_count": 8,
   "metadata": {},
   "outputs": [
    {
     "name": "stdout",
     "output_type": "stream",
     "text": [
      "        TOC  leachate_Cu  leachate_Cr   leachate_Fe\n",
      "0     414.0     20.00000    30.000000   1200.000000\n",
      "1   19476.0    721.44382    40.000000    866.000000\n",
      "2   24676.0    460.00000   170.000000   3380.000000\n",
      "3    1256.0   2660.00000   885.476744  20538.604938\n",
      "4    1299.0   2710.00000   885.476744  20538.604938\n",
      "..      ...          ...          ...           ...\n",
      "90   1061.0      3.00000   260.000000    365.000000\n",
      "91   1458.0    100.00000  1380.000000   2037.000000\n",
      "92    820.0     80.00000   200.000000   5500.000000\n",
      "93   1000.0    100.00000   100.000000   8000.000000\n",
      "94   1058.0    360.00000   450.000000  13200.000000\n",
      "\n",
      "[95 rows x 4 columns]\n"
     ]
    }
   ],
   "source": [
    "dp = pd.read_csv(r'H:\\NPs_prediction_dataset.csv',engine='python')\n",
    "dp.iloc[:, :1] = dp.iloc[:, :1].astype(str)\n",
    "dp.fillna(dp.mean())#均值代替平均值\n",
    "dp2 = dp.fillna(dp.mean())#均值代替平均值后的data\n",
    "columns_to_drop = [ 'leachate_Mn','leachate_Pb']\n",
    "dp3=dp2.drop(columns=columns_to_drop, axis=1)\n",
    "print(dp3)\n",
    "predictions=RandomForest.predict(dp3)\n",
    "pd.DataFrame(predictions).to_excel(r'H:\\Ti_NPs_prediction_global.xlsx')"
   ]
  }
 ],
 "metadata": {
  "celltoolbar": "Tags",
  "kernelspec": {
   "display_name": "Python 3",
   "language": "python",
   "name": "python3"
  },
  "language_info": {
   "codemirror_mode": {
    "name": "ipython",
    "version": 3
   },
   "file_extension": ".py",
   "mimetype": "text/x-python",
   "name": "python",
   "nbconvert_exporter": "python",
   "pygments_lexer": "ipython3",
   "version": "3.7.0"
  }
 },
 "nbformat": 4,
 "nbformat_minor": 5
}
